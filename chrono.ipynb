{
 "cells": [
  {
   "cell_type": "code",
   "execution_count": null,
   "id": "823fdba7",
   "metadata": {},
   "outputs": [
    {
     "name": "stdout",
     "output_type": "stream",
     "text": [
      "veuillez mettre la duree du compte à rebours en secondes :300\n",
      "('Cela represente donc', 3, 'minutes et', 27, 'secondes')\r"
     ]
    }
   ],
   "source": [
    "#Creeons un chronometre :\n",
    "import time\n",
    "\n",
    "def countdown(t):\n",
    "    while t >  0:\n",
    "        timeformat =  (divmod(t,60))\n",
    "        a = ( \"Cela represente donc\" ,timeformat [0], \"minutes et\",timeformat [1], \"secondes\")\n",
    "        print(a,end=\"\\r\")\n",
    "        time.sleep(1)\n",
    "        t = t-1\n",
    "    print(\"le compte à rebours est fini\")\n",
    "\n",
    "t = int(input(\"veuillez mettre la duree du compte à rebours en secondes :\",))\n",
    "countdown(t)\n",
    "         "
   ]
  },
  {
   "cell_type": "code",
   "execution_count": null,
   "id": "2336d39c",
   "metadata": {},
   "outputs": [],
   "source": []
  }
 ],
 "metadata": {
  "kernelspec": {
   "display_name": "Python 3 (ipykernel)",
   "language": "python",
   "name": "python3"
  },
  "language_info": {
   "codemirror_mode": {
    "name": "ipython",
    "version": 3
   },
   "file_extension": ".py",
   "mimetype": "text/x-python",
   "name": "python",
   "nbconvert_exporter": "python",
   "pygments_lexer": "ipython3",
   "version": "3.9.13"
  }
 },
 "nbformat": 4,
 "nbformat_minor": 5
}
